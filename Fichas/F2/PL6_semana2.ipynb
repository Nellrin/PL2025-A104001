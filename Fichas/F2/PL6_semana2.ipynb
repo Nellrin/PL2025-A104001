{
  "cells": [
    {
      "cell_type": "markdown",
      "metadata": {
        "id": "1xuQypGEy4XM"
      },
      "source": [
        "# Out of the Box Exercises: Regular Expressions\n",
        "### by jcr\n",
        "### Feb 2023"
      ]
    },
    {
      "cell_type": "markdown",
      "metadata": {
        "id": "CRF8KF37tCfb"
      },
      "source": [
        "## Exercícios de Especificação"
      ]
    },
    {
      "cell_type": "markdown",
      "metadata": {
        "id": "44iQYnVStH3B"
      },
      "source": [
        "### Strings binárias:\n",
        "\n",
        "Especificque expressões regulares para strings binárias (compostas apenas por 0's e 1's) atendendo às seguintes restrições:\n",
        "\n",
        "1.   Todas as strings binárias;\n",
        "2.   Todas as strings binárias excepto a string vazia;\n",
        "3.   Todas as strings binárias que começam e terminam por '1';\n",
        "4.   Todas as strings binárias que terminam por \"00\";\n",
        "5.   Todas as strings binárias que contêm pelo menos 3 '1';\n",
        "6.   Todas as strings binárias que contêm a substring \"110\";\n",
        "7.   Todas as strings binárias que não contêm a substring \"110\";\n",
        "8.   Todas as strings binárias que comtêm pelo menos dois '0' mas não consecutivos;\n",
        "9.   Todas as strings binárias que contêm pelo menos três carateres e o terceiro é '0';\n",
        "10.  Todas as strings binárias que começam e acabam pelo mesmo dígito.\n",
        "\n"
      ]
    },
    {
      "cell_type": "code",
      "execution_count": null,
      "metadata": {},
      "outputs": [
        {
          "ename": "SyntaxError",
          "evalue": "leading zeros in decimal integer literals are not permitted; use an 0o prefix for octal integers (402259910.py, line 1)",
          "output_type": "error",
          "traceback": [
            "\u001b[1;36m  Cell \u001b[1;32mIn[1], line 1\u001b[1;36m\u001b[0m\n\u001b[1;33m    010101010101\u001b[0m\n\u001b[1;37m    ^\u001b[0m\n\u001b[1;31mSyntaxError\u001b[0m\u001b[1;31m:\u001b[0m leading zeros in decimal integer literals are not permitted; use an 0o prefix for octal integers\n"
          ]
        }
      ],
      "source": [
        "010101010101\n",
        "00000\n",
        "11111\n",
        "101010000\n",
        "1001000111\n",
        "01110111\n",
        "a1110100\n",
        "001\n",
        "00\n",
        "100a100\n",
        "\n",
        "1. ^(0|1)*$\n",
        "4. ^(1|0)*00$\n",
        "5. ^0*10*10*1[01]*$\n",
        "6. ^[01]*110*[01]*$"
      ]
    },
    {
      "cell_type": "markdown",
      "metadata": {
        "id": "D4cFuVqgs_LA"
      },
      "source": [
        "## Exercícios Práticos"
      ]
    },
    {
      "cell_type": "markdown",
      "metadata": {
        "id": "SxNWF0jAzSb5"
      },
      "source": [
        "### Email\n",
        "\n",
        "`user@dom.top-dom`\n",
        "\n",
        "* user - alfanuméricos ou alguns carateres especiais: '-', '.', etc;\n",
        "* O primeiro e último caráter não pode ser um caráter especial;\n",
        "* Não pode haver 2 carateres especiais consecutivos;\n",
        "\n",
        "* dom - alfanuméricos e hífen;\n",
        "* top-dom - alfanuméricos e hífen com 2 ou mais carateres.\n",
        "\n",
        "Criar um programa em Python que:\n",
        "1. Apanha os emails presentes no dataset;\n",
        "2. Ordena-os alfabeticamente;\n",
        "3. Como resultado, apresenta-os numa linha separados por ';'\n",
        "\n",
        "___"
      ]
    },
    {
      "cell_type": "code",
      "execution_count": null,
      "metadata": {
        "id": "PEs8U8i8I8Im"
      },
      "outputs": [],
      "source": [
        "# Texto de inout exemplo\n",
        "\n",
        "#-abc@-abc.pt\n",
        "#abc@uminho.pt\n",
        "#zequina...bomba@pt\n",
        "#ana--lisboa@porto..pt\n",
        "#jose-@di.uminho.pt\n",
        "#prh@.di.uminho.pt\n",
        "#jcr@epl.di.uminho.pt\n",
        "\n",
        "import re,sys\n",
        "\n",
        "email = '^\\w+([.\\-]?\\w)*@(\\w+\\.)+\\w{2,}'\n",
        "\n",
        "for linha in sys.stdin:\n",
        "    m = re.search(email,linha)\n",
        "    \n",
        "    if m:\n",
        "        print(f\"[válida]: {linha}\")\n",
        "        print(m,m.span(),m.group())\n",
        "    else:\n",
        "        print(f\"[inválida]: {linha}\")"
      ]
    },
    {
      "cell_type": "code",
      "execution_count": null,
      "metadata": {
        "id": "wUlaDD5cEhNC"
      },
      "outputs": [],
      "source": []
    },
    {
      "cell_type": "markdown",
      "metadata": {
        "id": "R3Q0MZld2xOK"
      },
      "source": [
        "### Email (versão2)\n",
        "\n",
        "Cria um programa em Python que recebe um texto com um email por linha e como resultado imprime uma linha para cada email com \"VÁLIDO\" ou \"INVÁLIDO\".\n",
        "\n",
        "___"
      ]
    },
    {
      "cell_type": "code",
      "execution_count": null,
      "metadata": {
        "id": "C31SZtRgFG45"
      },
      "outputs": [],
      "source": [
        "# Verificação de endereços de email\n"
      ]
    },
    {
      "cell_type": "markdown",
      "metadata": {
        "id": "VB3kH5aFzkvV"
      },
      "source": [
        "### MarkDown 2 HTML\n",
        "\n",
        "Vamos fazer parte dum conversor de MD para HTML.\n",
        "Cria um programa em Python que realiza as seguintes tarefas:\n",
        "1. Converte os elementos __bold__ do MD, `**isto fica a bold em MD**` ou `__isto fica a bold em MD__`, em `<b>isto fica a bold em HTML</b>`\n",
        "\n",
        "2. Converte os elementos _itálicos_ do MD, `*isto fica a itálico em MD*` ou `_isto fica a itálico em MD_`, em `<i>isto fica a bold em HTML</i>`\n",
        "\n",
        "3. Converte os links MD, da forma `[texto](https://www.example.com)`, em links do HTML `<a href=\"https://www.example.com\">texto</a>`\n",
        "\n",
        "4. Converte as imagens MD, da forma `![alt texto](image.jpg)`, em imagens do HTML `<img src=\"image.jpg\" alt=\"texto\"/>`\n",
        "\n",
        "___"
      ]
    },
    {
      "cell_type": "code",
      "execution_count": null,
      "metadata": {
        "id": "-tgP94RDGGki"
      },
      "outputs": [],
      "source": [
        "# markdown.md\n",
        "Esta é uma aula de **Processamento de Linguagens** onde vamos falar da ferramenta\n",
        "__Ply (gerador de analisadores léxicos)__.\n",
        "\n",
        "Este é um teste de **bold e __itálico__ em simultâneo**.\n",
        "\n",
        "Isto é __italic italic italic__ e isto é _italico_\n",
        "\n",
        "**Isto é bold** e isto é *italico*"
      ]
    },
    {
      "cell_type": "code",
      "execution_count": null,
      "metadata": {
        "id": "Q2dEVQogGDHn"
      },
      "outputs": [],
      "source": []
    },
    {
      "cell_type": "markdown",
      "metadata": {
        "id": "o3FXd30L2C1F"
      },
      "source": [
        "### Processamento de Links\n",
        "\n",
        "Especifica um programa em Python que processa o texto HTML na entrada e:\n",
        "* Extrai os URL de todos os links;\n",
        "* Ordena alfabeticamente esses URL;\n",
        "* Apresenta a lista de URL numa linha separados por ';'.\n",
        "\n",
        "___"
      ]
    },
    {
      "cell_type": "code",
      "execution_count": null,
      "metadata": {
        "id": "LmtfB2IYFilR"
      },
      "outputs": [],
      "source": [
        "# Capturar os endereços dos links HTML\n",
        "\n"
      ]
    },
    {
      "cell_type": "markdown",
      "metadata": {
        "id": "eqxHj9Yf2kiN"
      },
      "source": [
        "### Codificador de texto\n",
        "\n",
        "Crie um programa em Python que codifica um texto atendendo às seguintes regras:\n",
        "* os dígitos ficam com o seu código ASCII rodado dum valor inteiro especificado na variável `rotn`;\n",
        "* as letras minúsculas ficam com o seu código ASCII rodado dum valor inteiro especificado na variável `rotm`;\n",
        "* as letras maiúsculas ficam com o seu código ASCII rodado dum valor inteiro especificado na variável `rotM`;\n",
        "* os restantes carateres oermanecem inalterados.\n",
        "\n",
        "___"
      ]
    },
    {
      "cell_type": "code",
      "execution_count": null,
      "metadata": {
        "id": "TQAmDGhfHuCU"
      },
      "outputs": [],
      "source": []
    },
    {
      "cell_type": "markdown",
      "metadata": {
        "id": "eVqVH2RK4_mP"
      },
      "source": [
        "### Descodificador de texto\n",
        "\n",
        "Crie um programa em Python que conhecendo os valores de `rotn`, `rotm` e `rotM` descodifica o texto e retorna-o à sua forma original.\n",
        "\n",
        "___"
      ]
    },
    {
      "cell_type": "markdown",
      "metadata": {
        "id": "AUsUV5sG5Sp1"
      },
      "source": [
        "### BitPack\n",
        "\n",
        "Crie um programa em Python que processa entradas binárias (sequências compostas apenas por '0' ou '1' em qualquer ordem e número) e as comprime num formato empacotado de bits de acordo com as seguintes regras:\n",
        "* Sequências do caráter '0' são compactadas gerando na saída 2 carateres, o primeiro com código ASCII correspondente ao número de '0' na sequência e o segundo o próprio 0 (as sequências para serem codificadas terão de ter no mínimo 2 carateres e no máximo 127 carateres, sequências maiores são fracionadas em blocos de 127);\n",
        "* Sequências do caráter '1' são codificadas da mesma forma;\n",
        "* As outras sequências, por exemplo \"010101010101010101\" são codificadas colocando na saída o carácter com código ASCII correpondente ao número de carateres na sequência adicionado de 127, este caráter deverá ser seguido da sequência encontrada, a sequência deverá ter no máximo 128 carateres.\n",
        "\n",
        "___"
      ]
    },
    {
      "cell_type": "code",
      "execution_count": null,
      "metadata": {
        "id": "j8-rF_7JH4E7"
      },
      "outputs": [],
      "source": []
    },
    {
      "cell_type": "markdown",
      "metadata": {
        "id": "yuQ7Ys-b76Xs"
      },
      "source": [
        "### UnBitPack\n",
        "\n",
        "Crie um programa Python que descompacta o resultado do programa anterior.\n",
        "\n",
        "___"
      ]
    },
    {
      "cell_type": "markdown",
      "metadata": {
        "id": "of34QMSX8Ff4"
      },
      "source": [
        "### Listas (jj)\n",
        "\n",
        "Em língua natural uma lista é normalmente enunciada por elementos separados por vírgulas e pela conjunção ’e’ junto ao último elemento, por exemplo,\n",
        "`x1, x2, x3, ..., xm e xn`\n",
        "\n",
        "Faça um filtro Python para extrair as lista homogéneas monopalavra de um texto,\n",
        "bem como o número da linha em que começam.\n",
        "\n",
        "Aplicada ao seguinte texto:\n",
        "\n",
        "`Em Janeiro e Fevereiro estará aberto uma exposição contendo\n",
        "alguns dos mais brilhantes desenhos, pinturas,\n",
        "textos e esculturas de Leonardo d’Avinci.`\n",
        "\n",
        "a saída pretendida é:\n",
        "\n",
        "`linha1 : Janeiro :: Fevereiro`\n",
        "\n",
        "`linha2 : desenhos :: pinturas :: textos :: esculturas`\n",
        "\n",
        "___"
      ]
    },
    {
      "cell_type": "markdown",
      "metadata": {
        "id": "oAf1k_1QHHic"
      },
      "source": [
        "# Texto alternativo de input\n",
        "Os alimentos preferidos de Eva\n",
        "Eva é cozinheira e foi comprar alimentos para o almoço de domingo.\n",
        "Ela prefere comprar as verduras e os legumes no supermercado que\n",
        "fica ao lado de sua casa. As carnes ela compra sempre no açougue\n",
        "e os peixes na peixaria.\n",
        "Além disso, Eva costuma comer muitas frutas, como por exemplo,\n",
        "banana, maçã, abacate, abacaxi, uva e melancia.\n",
        "Ela costuma comprar frutas na quitanda que há no bairro onde mora.\n",
        "Em sua casa, Eva possui uma horta onde planta alguns tipos de vegetais,\n",
        "como cebola, hortelã e manjericão que são utilizados como temperos.\n",
        "Aos domingos, Eva prepara bolos e tortas.\n",
        "Ela usa farinha de trigo, ovos, leite e outros ingredientes\n",
        "que também são comprados no supermercado.\n",
        "Quando faz frio, ela prefere preparar sopas de legumes e carnes.\n",
        "O caldo de lentilhas com pedaços de carne é uma de suas refeições\n",
        "preferidas no inverno.\n",
        "Nos dias mais quentes, Eva faz sorvetes e outros alimentos refrescantes,\n",
        "como sucos de frutas gelados.\n",
        "A cozinheira gosta de conhecer novas espécies de alimentos e para isso\n",
        "assiste programas que falam do assunto e lê vários livros sobre esse tema."
      ]
    },
    {
      "cell_type": "code",
      "execution_count": null,
      "metadata": {
        "id": "IUvx1VuxHE8Y"
      },
      "outputs": [],
      "source": []
    },
    {
      "cell_type": "markdown",
      "metadata": {
        "id": "RN-3eJz_9nrM"
      },
      "source": []
    }
  ],
  "metadata": {
    "colab": {
      "provenance": [],
      "toc_visible": true
    },
    "kernelspec": {
      "display_name": "Python 3",
      "name": "python3"
    },
    "language_info": {
      "codemirror_mode": {
        "name": "ipython",
        "version": 3
      },
      "file_extension": ".py",
      "mimetype": "text/x-python",
      "name": "python",
      "nbconvert_exporter": "python",
      "pygments_lexer": "ipython3",
      "version": "3.11.9"
    }
  },
  "nbformat": 4,
  "nbformat_minor": 0
}
