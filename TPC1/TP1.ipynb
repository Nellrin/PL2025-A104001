{
  "cells": [
    {
      "cell_type": "markdown",
      "metadata": {
        "id": "qnEbPLd2Nghs"
      },
      "source": [
        "## Enunciado"
      ]
    },
    {
      "cell_type": "markdown",
      "metadata": {
        "id": "2UR1RUBmN5gI"
      },
      "source": [
        "Pretende-se um programa que some todas as sequências de dígitos que encontre num texto:\n",
        "* Sempre que encontrar a string “Off” em qualquer combinação de maiúsculas e minúsculas, esse comportamento é desligado;\n",
        "* Sempre que encontrar a string “On” em qualquer combinação de maiúsculas e minúsculas, esse comportamento é novamente ligado;\n",
        "* Sempre que encontrar o caráter “=”, o resultado da soma é colocado na saída."
      ]
    },
    {
      "cell_type": "markdown",
      "metadata": {},
      "source": [
        "## Resolução"
      ]
    },
    {
      "cell_type": "code",
      "execution_count": 5,
      "metadata": {
        "id": "pLJRPs3JN7lI"
      },
      "outputs": [],
      "source": [
        "def someSum(s :str) -> int:\n",
        "    l: int = len(s)\n",
        "    \n",
        "    if l < 3 or \"on\" not in s.lower(): return 0\n",
        "    \n",
        "    x: int = 0\n",
        "    i: int = 0\n",
        "    ns: str = \"\"\n",
        "    flag: bool = False\n",
        "    \n",
        "    while i < l:\n",
        "        if s[i] == '=':\n",
        "            print(x)\n",
        "            i += 1\n",
        "            continue\n",
        "\n",
        "        ns += s[i].lower()\n",
        "        \n",
        "        if \"on\" in ns or \"off\" in ns:\n",
        "            flag = \"on\" in ns\n",
        "            ns = \"\"\n",
        "                    \n",
        "        if flag:\n",
        "            if s[i] in \"0123456789\":\n",
        "                x += int(s[i])\n",
        "                \n",
        "        i += 1\n",
        "            \n",
        "    return x"
      ]
    },
    {
      "cell_type": "code",
      "execution_count": 22,
      "metadata": {},
      "outputs": [],
      "source": [
        "def SUM(s :str) -> int:\n",
        "    l: int = len(s)\n",
        "    \n",
        "    if l < 3 or \"on\" not in s.lower(): return 0\n",
        "    \n",
        "    x: int = 0\n",
        "    i: int = 0\n",
        "    \n",
        "    ns: str = \"\"\n",
        "    acc: str = \"\"\n",
        "    \n",
        "    flag: bool = False\n",
        "    \n",
        "    kv: list = list(enumerate(s))\n",
        "        \n",
        "    while i < l:        \n",
        "        if kv[i][1] == '=':\n",
        "            print(x)\n",
        "\n",
        "        ns += kv[i][1].lower()\n",
        "        \n",
        "        if \"on\" in ns or \"off\" in ns:\n",
        "            flag = \"on\" in ns\n",
        "            ns = \"\"\n",
        "                    \n",
        "        if flag:\n",
        "            if kv[i][1] in \"0123456789\":\n",
        "                acc += kv[i][1]\n",
        "            \n",
        "            elif acc != \"\":\n",
        "                x += int(acc)\n",
        "                acc = \"\"\n",
        "                \n",
        "            if kv[i][0] == l - 1:\n",
        "                x += int(acc)\n",
        "                acc = \"\"\n",
        "            \n",
        "        i += 1\n",
        "                \n",
        "    return x"
      ]
    },
    {
      "cell_type": "markdown",
      "metadata": {},
      "source": [
        "# Testes"
      ]
    },
    {
      "cell_type": "code",
      "execution_count": 26,
      "metadata": {},
      "outputs": [
        {
          "name": "stdout",
          "output_type": "stream",
          "text": [
            "True\n",
            "True\n",
            "True\n",
            "True\n",
            "True\n",
            "True\n",
            "True\n",
            "True\n",
            "True\n",
            "True\n"
          ]
        }
      ],
      "source": [
        "print(0  == someSum(\"O valor é 10, Off 5 e 6 estão em Off.\"))\n",
        "print(5  == someSum(\"O valor é 10, On 20 30 Off 50.\"))\n",
        "print(11 == someSum(\"10 20 30 On 40 Off 50 60 On 70\"))\n",
        "print(1  == someSum(\"On 10  Off 5\"))\n",
        "print(12 == someSum(\"100 Off 200 On 300 400 500\"))\n",
        "print(8  == someSum(\"10 20 On 30 Off 40 On 50\"))\n",
        "print(26 == someSum(\"Off 1 2 3 4 On 5 6 7 8\"))\n",
        "print(5  == someSum(\"10 20 Off 30 40 On 50\"))\n",
        "print(6  == someSum(\"Off 100 On 50 100 Off 200\"))\n",
        "print(3  == someSum(\"5 On 10 Off 15 On 20\"))"
      ]
    },
    {
      "cell_type": "code",
      "execution_count": null,
      "metadata": {},
      "outputs": [
        {
          "name": "stdout",
          "output_type": "stream",
          "text": [
            "True\n",
            "True\n",
            "True\n",
            "True\n",
            "True\n",
            "True\n",
            "True\n",
            "True\n",
            "True\n",
            "True\n"
          ]
        }
      ],
      "source": [
        "print(0    == SUM(\"O valor é 10, Off 5 e 6 estão em Off.\"))\n",
        "print(50   == SUM(\"O valor é 10, On 20 30 Off 50.\"))\n",
        "print(110  == SUM(\"10 20 30 On 40 Off 50 60 On 70\"))\n",
        "print(10   == SUM(\"On 10  Off 5\"))\n",
        "print(1200 == SUM(\"100 Off 200 On 300 400 500\"))\n",
        "print(80   == SUM(\"10 20 On 30 Off 40 On 50\"))\n",
        "print(26   == SUM(\"Off 1 2 3 4 On 5 6 7 8\"))\n",
        "print(50   == SUM(\"10 20 Off 30 40 On 50\"))\n",
        "print(150  == SUM(\"Off 100 On 50 100 Off 200\"))\n",
        "print(30   == SUM(\"5 On 10 Off 15 On 20\"))"
      ]
    }
  ],
  "metadata": {
    "colab": {
      "provenance": []
    },
    "kernelspec": {
      "display_name": "Python 3",
      "language": "python",
      "name": "python3"
    },
    "language_info": {
      "codemirror_mode": {
        "name": "ipython",
        "version": 3
      },
      "file_extension": ".py",
      "mimetype": "text/x-python",
      "name": "python",
      "nbconvert_exporter": "python",
      "pygments_lexer": "ipython3",
      "version": "3.11.9"
    },
    "orig_nbformat": 4
  },
  "nbformat": 4,
  "nbformat_minor": 0
}
