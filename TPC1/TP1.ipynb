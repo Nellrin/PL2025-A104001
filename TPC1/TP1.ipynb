{
  "cells": [
    {
      "cell_type": "markdown",
      "metadata": {
        "id": "qnEbPLd2Nghs"
      },
      "source": [
        "## Enunciado"
      ]
    },
    {
      "cell_type": "markdown",
      "metadata": {
        "id": "2UR1RUBmN5gI"
      },
      "source": [
        "Pretende-se um programa que some todas as sequências de dígitos que encontre num texto:\n",
        "* Some todas as sequências de dígitos que encontre num texto;\n",
        "* Sempre que encontrar a string “Off” em qualquer combinação de maiúsculas e minúsculas, esse\n",
        "comportamento é desligado;\n",
        "* Sempre que encontrar a string “On” em qualquer combinação de maiúsculas e minúsculas, esse\n",
        "comportamento é novamente ligado;\n",
        "* Sempre que encontrar o caráter “=”, o resultado da soma é colocado na saída;\n",
        "* No fim, coloca o valor da soma na saída"
      ]
    },
    {
      "cell_type": "markdown",
      "metadata": {},
      "source": [
        "## Resolução"
      ]
    },
    {
      "cell_type": "code",
      "execution_count": 43,
      "metadata": {
        "id": "pLJRPs3JN7lI"
      },
      "outputs": [],
      "source": [
        "def someSum(s :str, x: int, flag: bool) -> tuple[int, bool]:\n",
        "    l: int = len(s)\n",
        "    \n",
        "    i: int = 0\n",
        "    ns: str = \"\"\n",
        "    \n",
        "    while i < l:\n",
        "        if s[i] == '=':\n",
        "            print(x)\n",
        "            i += 1\n",
        "            continue\n",
        "\n",
        "        ns += s[i].lower()\n",
        "        \n",
        "        if \"on\" in ns or \"off\" in ns:\n",
        "            flag = \"on\" in ns\n",
        "            ns = \"\"\n",
        "                    \n",
        "        if flag:\n",
        "            if s[i] in \"0123456789\":\n",
        "                x += int(s[i])\n",
        "                \n",
        "        i += 1\n",
        "            \n",
        "    return x, flag"
      ]
    },
    {
      "cell_type": "code",
      "execution_count": 41,
      "metadata": {},
      "outputs": [],
      "source": [
        "def SUM(s :str, x: int, flag: bool) -> tuple[int, bool]:\n",
        "    l: int = len(s)\n",
        "    i: int = 0\n",
        "    \n",
        "    ns: str = \"\"\n",
        "    acc: str = \"\"\n",
        "    \n",
        "    kv: list = list(enumerate(s))\n",
        "        \n",
        "    while i < l:\n",
        "        if kv[i][1] == '=':\n",
        "            print(x)\n",
        "\n",
        "        ns += kv[i][1].lower()\n",
        "        \n",
        "        if \"on\" in ns or \"off\" in ns:\n",
        "            flag = \"on\" in ns\n",
        "            ns = \"\"\n",
        "                    \n",
        "        if flag:\n",
        "            if kv[i][1] in \"0123456789\":\n",
        "                acc += kv[i][1]\n",
        "            \n",
        "            elif acc != \"\":\n",
        "                x += int(acc)\n",
        "                acc = \"\"\n",
        "                \n",
        "            if acc != \"\" and kv[i][0] == l - 1:\n",
        "                x += int(acc)\n",
        "                acc = \"\"\n",
        "            \n",
        "        i += 1\n",
        "                \n",
        "    return x, flag"
      ]
    },
    {
      "cell_type": "markdown",
      "metadata": {},
      "source": [
        "# Testes\n",
        "* Estáticos"
      ]
    },
    {
      "cell_type": "code",
      "execution_count": 44,
      "metadata": {},
      "outputs": [
        {
          "name": "stdout",
          "output_type": "stream",
          "text": [
            "True\n",
            "True\n",
            "True\n",
            "True\n",
            "True\n",
            "True\n",
            "True\n",
            "True\n",
            "True\n",
            "True\n"
          ]
        }
      ],
      "source": [
        "print(1  == someSum(\"O valor é 10, Off 5 e 6 estão em Off.\",0,True)[0])\n",
        "print(6  == someSum(\"O valor é 10, On 20 30 Off 50.\",0,True)[0])\n",
        "print(17 == someSum(\"10 20 30 On 40 Off 50 60 On 70\",0,True)[0])\n",
        "print(1  == someSum(\"On 10  Off 5\",0,True)[0])\n",
        "print(13 == someSum(\"100 Off 200 On 300 400 500\",0,True)[0])\n",
        "print(11 == someSum(\"10 20 On 30 Off 40 On 50\",0,True)[0])\n",
        "print(26 == someSum(\"Off 1 2 3 4 On 5 6 7 8\",0,True)[0])\n",
        "print(8  == someSum(\"10 20 Off 30 40 On 50\",0,True)[0])\n",
        "print(6  == someSum(\"Off 100 On 50 100 Off 200\",0,True)[0])\n",
        "print(8  == someSum(\"5 On 10 Off 15 On 20\",0,True)[0])"
      ]
    },
    {
      "cell_type": "code",
      "execution_count": 45,
      "metadata": {},
      "outputs": [
        {
          "name": "stdout",
          "output_type": "stream",
          "text": [
            "True\n",
            "True\n",
            "True\n",
            "True\n",
            "True\n",
            "True\n",
            "True\n",
            "True\n",
            "True\n",
            "True\n"
          ]
        }
      ],
      "source": [
        "print(10   == SUM(\"O valor é 10, Off 5 e 6 estão em Off.\",0,True)[0])\n",
        "print(60   == SUM(\"O valor é 10, On 20 30 Off 50.\",0,True)[0])\n",
        "print(170  == SUM(\"10 20 30 On 40 Off 50 60 On 70\",0,True)[0])\n",
        "print(10   == SUM(\"oN 10  Off 5\",0,True)[0])\n",
        "print(1300 == SUM(\"100 Off 200 On 300 400 500\",0,True)[0])\n",
        "print(110  == SUM(\"10 20 On 30 Off 40 On 50\",0,True)[0])\n",
        "print(26   == SUM(\"Off 1 2 3 4 On 5 6 7 8\",0,True)[0])\n",
        "print(80   == SUM(\"10 20 Off 30 40 On 50\",0,True)[0])\n",
        "print(150  == SUM(\"Off 100 On 50 100 Off 200\",0,True)[0])\n",
        "print(35   == SUM(\"5 On 10 Off 15 On 20\",0,True)[0])"
      ]
    },
    {
      "cell_type": "markdown",
      "metadata": {},
      "source": [
        "* Dinâmicos (input file)"
      ]
    },
    {
      "cell_type": "code",
      "execution_count": 80,
      "metadata": {},
      "outputs": [
        {
          "name": "stdout",
          "output_type": "stream",
          "text": [
            "2032\n",
            "2032\n",
            "2057\n"
          ]
        }
      ],
      "source": [
        "x :int = 0\n",
        "flag: bool = True\n",
        "linha: str = \"\"\n",
        "\n",
        "with open(\"Tests/input.txt\", \"r\") as file:\n",
        "    for line in file:\n",
        "        x, flag = SUM(line, x, flag)\n",
        "        \n",
        "print(x)"
      ]
    },
    {
      "cell_type": "code",
      "execution_count": 79,
      "metadata": {},
      "outputs": [
        {
          "name": "stdout",
          "output_type": "stream",
          "text": [
            "16\n",
            "16\n",
            "23\n"
          ]
        }
      ],
      "source": [
        "x :int = 0\n",
        "flag: bool = True\n",
        "linha: str = \"\"\n",
        "\n",
        "with open(\"Tests/input.txt\", \"r\") as file:\n",
        "    for line in file:\n",
        "        x, flag = someSum(line, x, flag)\n",
        "        \n",
        "print(x)"
      ]
    },
    {
      "cell_type": "markdown",
      "metadata": {},
      "source": [
        "* Dinâmicos (stdin)"
      ]
    },
    {
      "cell_type": "code",
      "execution_count": null,
      "metadata": {},
      "outputs": [],
      "source": [
        "x :int = 0\n",
        "flag: bool = True\n",
        "linha: str = \"\"\n",
        "\n",
        "while True:\n",
        "    linha = input()  \n",
        "    if not linha: break\n",
        "    \n",
        "    (x,flag) = SUM(linha,x,flag)\n",
        "    \n",
        "    print(x)"
      ]
    },
    {
      "cell_type": "code",
      "execution_count": null,
      "metadata": {},
      "outputs": [],
      "source": [
        "x :int = 0\n",
        "flag: bool = True\n",
        "linha: str = \"\"\n",
        "\n",
        "while True:\n",
        "    linha = input()  \n",
        "    if not linha: break\n",
        "    \n",
        "    (x,flag) = someSum(linha,x,flag)\n",
        "    \n",
        "    print(x)"
      ]
    }
  ],
  "metadata": {
    "colab": {
      "provenance": []
    },
    "kernelspec": {
      "display_name": "Python 3",
      "language": "python",
      "name": "python3"
    },
    "language_info": {
      "codemirror_mode": {
        "name": "ipython",
        "version": 3
      },
      "file_extension": ".py",
      "mimetype": "text/x-python",
      "name": "python",
      "nbconvert_exporter": "python",
      "pygments_lexer": "ipython3",
      "version": "3.11.9"
    },
    "orig_nbformat": 4
  },
  "nbformat": 4,
  "nbformat_minor": 0
}
