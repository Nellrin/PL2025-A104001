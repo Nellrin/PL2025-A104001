{
  "cells": [
    {
      "cell_type": "markdown",
      "metadata": {
        "id": "qnEbPLd2Nghs"
      },
      "source": [
        "## Enunciado"
      ]
    },
    {
      "cell_type": "markdown",
      "metadata": {
        "id": "2UR1RUBmN5gI"
      },
      "source": [
        "Pretende-se um programa converta um ficheiro **`MarkDown`** para **`HTML`** tendo só em conta os elementos mencionados:\n",
        "\n",
        "* Cabeçalhos;\n",
        "* Bold;\n",
        "* Itálico;\n",
        "* Lista Numerada;\n",
        "* Link;\n",
        "* Imagem;"
      ]
    },
    {
      "cell_type": "markdown",
      "metadata": {},
      "source": [
        "## Resolução"
      ]
    },
    {
      "cell_type": "code",
      "execution_count": 1,
      "metadata": {},
      "outputs": [],
      "source": [
        "import re\n",
        "\n",
        "def customHeader(group):\n",
        "\n",
        "    result = \"<h\" + str(len(group[1])) + \">\"\n",
        "    \n",
        "    result += group[2]\n",
        "\n",
        "    result += \"</h\" + str(len(group[1])) + \">\"\n",
        "\n",
        "    return result\n",
        "\n",
        "def Header(body):\n",
        "    pattern = r'^(#+)\\s(.+)'\n",
        "    return re.sub(pattern,customHeader,body)"
      ]
    },
    {
      "cell_type": "code",
      "execution_count": 2,
      "metadata": {},
      "outputs": [],
      "source": [
        "import re\n",
        "\n",
        "def Bold(body):\n",
        "    pattern = r'\\*\\*(.*?)\\*\\*'\n",
        "    return re.sub(pattern,r'<b>\\1</b>',body)"
      ]
    },
    {
      "cell_type": "code",
      "execution_count": 3,
      "metadata": {},
      "outputs": [],
      "source": [
        "import re\n",
        "\n",
        "def Italic(body):\n",
        "    pattern = r'(?<!\\*)\\*(?!\\*)(.*?)(?<!\\*)\\*(?!\\*)'\n",
        "    return re.sub(pattern,r'<i>\\1</i>',body)"
      ]
    },
    {
      "cell_type": "code",
      "execution_count": 4,
      "metadata": {},
      "outputs": [],
      "source": [
        "import re\n",
        "\n",
        "def aux0(match):\n",
        "    list = match.group(0)\n",
        "\n",
        "    pattern = r'^\\d\\..*(.+)'\n",
        "    list = re.sub(pattern, r'<li>\\1</li>', list, flags= re.MULTILINE)\n",
        "\n",
        "    content = \"<ol>\\n\"\n",
        "    content += list\n",
        "    content += \"</ol>\\n\"\n",
        "\n",
        "    return content\n",
        "\n",
        "def aux1(match):\n",
        "    list = match.group(0)\n",
        "\n",
        "    pattern = r'^(\\*|\\-)(.+)'\n",
        "    list = re.sub(pattern, r'<ul>\\2</ul>', list, flags= re.MULTILINE)\n",
        "\n",
        "    content = \"<ol>\\n\"\n",
        "    content += list\n",
        "    content += \"</ol>\\n\"\n",
        "\n",
        "    return content\n",
        "\n",
        "def NumList(body):\n",
        "    pattern0 = r'(^(\\d\\..+\\n?)+)'\n",
        "    pattern1 = r'((^((\\*)(?!\\*).+\\n?)+)|(^((\\-)(?!\\-).+\\n?)+))'\n",
        "\n",
        "    body = re.sub(pattern0, aux0, body, flags=re.MULTILINE)\n",
        "    \n",
        "    return  re.sub(pattern1, aux1, body, flags=re.MULTILINE)"
      ]
    },
    {
      "cell_type": "code",
      "execution_count": 5,
      "metadata": {},
      "outputs": [],
      "source": [
        "import re\n",
        "\n",
        "def Image(body):\n",
        "    pattern = r'!\\[(.*?)\\]\\((.*?)\\)'\n",
        "    return re.sub(pattern,r'<img src=\"\\2\" alt=\"\\1\"/>',body)"
      ]
    },
    {
      "cell_type": "code",
      "execution_count": 6,
      "metadata": {},
      "outputs": [],
      "source": [
        "import re\n",
        "\n",
        "def Link(body):\n",
        "    pattern = r'[^!]\\[(.*?)\\]\\((.*?)\\)'\n",
        "    return re.sub(pattern,r'<a href=\"\\2\">\\1</a>',body)"
      ]
    },
    {
      "cell_type": "code",
      "execution_count": 7,
      "metadata": {
        "id": "pLJRPs3JN7lI"
      },
      "outputs": [],
      "source": [
        "def MD2HTML(path):\n",
        "        \n",
        "    with open(path) as file:\n",
        "        line = file.read()\n",
        "        line = Link(line)\n",
        "        line = Image(line)\n",
        "        line = NumList(line)\n",
        "        line = Header(line)\n",
        "        line = Bold(line)\n",
        "        line = Italic(line)\n",
        "\n",
        "        with open(path[:-2] + \"html\", \"w\") as new:\n",
        "            new.write(line)"
      ]
    },
    {
      "cell_type": "markdown",
      "metadata": {},
      "source": [
        "# Testes"
      ]
    },
    {
      "cell_type": "code",
      "execution_count": 8,
      "metadata": {},
      "outputs": [],
      "source": [
        "MD2HTML(\"README.md\")"
      ]
    }
  ],
  "metadata": {
    "colab": {
      "provenance": []
    },
    "kernelspec": {
      "display_name": "Python 3",
      "language": "python",
      "name": "python3"
    },
    "language_info": {
      "codemirror_mode": {
        "name": "ipython",
        "version": 3
      },
      "file_extension": ".py",
      "mimetype": "text/x-python",
      "name": "python",
      "nbconvert_exporter": "python",
      "pygments_lexer": "ipython3",
      "version": "3.12.3"
    },
    "orig_nbformat": 4
  },
  "nbformat": 4,
  "nbformat_minor": 0
}
